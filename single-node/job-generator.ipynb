{
 "cells": [
  {
   "cell_type": "markdown",
   "id": "4921bf93-3083-4327-84c7-2fb0797bf444",
   "metadata": {},
   "source": [
    "# `fio` Job generator\n",
    "The goal of this notebook is to generate all the fio job necessary to run the experiments."
   ]
  },
  {
   "cell_type": "code",
   "execution_count": 2,
   "id": "ce3c9ae1-1de2-46b8-a708-5c9c945080e1",
   "metadata": {},
   "outputs": [],
   "source": [
    "def write_to_file(jobfile,filename):\n",
    "    with open(filename,\"w\") as f:\n",
    "        f.write(jobfile)\n",
    "        #f.write(jobfile.as_string())"
   ]
  },
  {
   "cell_type": "code",
   "execution_count": 3,
   "id": "13e9c49b-11d6-46ed-a493-a2145607798b",
   "metadata": {},
   "outputs": [],
   "source": [
    "def generate_job_single_device(filename,device,processes,blocksize,modes,engine):\n",
    "    jobfile = \"[global]\\n\"\n",
    "    jobfile+=f\"ioengine={engine}\\n\"\n",
    "    jobfile+=\"direct=1\\n\"\n",
    "    jobfile+=\"buffered=0\\n\"\n",
    "    jobfile+=\"time_based=1\\n\"\n",
    "    jobfile+=\"runtime=60\\n\"\n",
    "    jobfile+=\"size=8G\\n\"\n",
    "    jobfile+=\"group_reporting=1\\n\"\n",
    "    if \"/dev/\" in device:\n",
    "        jobfile+=f\"filename={device}\\n\"\n",
    "        jobfile+=\"offset_increment=10G\\n\"\n",
    "    elif (\"zfs\" in device) or (\"mnt\" in device):\n",
    "        jobfile+=f\"directory={device}\\n\"\n",
    "    jobfile+=\"stonewall\\n\"\n",
    "    for mode in modes:\n",
    "        for procs in processes:\n",
    "            for bs in blocksize:\n",
    "                jobfile+=f\"[Test_{mode}]\\n\"\n",
    "                if \"rand\" in mode:\n",
    "                    jobfile+=\"iodepth=32\\n\"\n",
    "                else:\n",
    "                    jobfile+=\"iodepth=4\\n\"\n",
    "                jobfile+=f\"rw={mode}\\n\"\n",
    "                jobfile+=f\"bs={bs}\\n\"\n",
    "                jobfile+=f\"numjobs={procs}\\n\"\n",
    "\n",
    "    write_to_file(jobfile,filename)"
   ]
  },
  {
   "cell_type": "code",
   "execution_count": null,
   "id": "b28a3fec-abef-4eee-8ea1-9bc8ba98ad7d",
   "metadata": {},
   "outputs": [],
   "source": [
    "#raw\n",
    "generate_job_single_device(\"raw/raw-libaio.fio\",\"/dev/sda\",[1,2,4,6,8,16],[\"4k\",\"8k\",\"16k\",\"32k\", \"256k\",'2048k','4096k','8192k'],[\"write\", \"read\",\"randwrite\", \"randread\"],engine='libaio')\n",
    "generate_job_single_device(\"raw/raw-posixaio.fio\",\"/dev/sda\",[1,2,4,6,8,16],[\"4k\",\"8k\",\"16k\",\"32k\", \"256k\",'2048k','4096k','8192k'],[\"write\", \"read\",\"randwrite\", \"randread\"],engine='posixaio')\n",
    "generate_job_single_device(\"raw/raw-uring.fio\",\"/dev/sda\",[1,2,4,6,8,16],[\"4k\",\"8k\",\"16k\",\"32k\", \"256k\",'2048k','4096k','8192k'],[\"write\", \"read\",\"randwrite\", \"randread\"],engine='io_uring')\n",
    "generate_job_single_device(\"raw/raw-sync.fio\",\"/dev/sda\",[1,2,4,6,8,16],[\"4k\",\"8k\",\"16k\",\"32k\", \"256k\",'2048k','4096k','8192k'],[\"write\", \"read\",\"randwrite\", \"randread\"],engine='sync')\n",
    "\n",
    "#xfs \n",
    "generate_job_single_device(\"xfs/xfs-libaio.fio\",\"/mnt/mydisk\",[1,2,4,6,8,16],[\"4k\",\"8k\",\"16k\",\"32k\", \"256k\",'2048k','4096k','8192k'],[\"write\", \"read\",\"randwrite\", \"randread\"],engine='libaio')\n",
    "generate_job_single_device(\"xfs/xfs-posixaio.fio\",\"/mnt/mydisk\",[1,2,4,6,8,16],[\"4k\",\"8k\",\"16k\",\"32k\", \"256k\",'2048k','4096k','8192k'],[\"write\", \"read\",\"randwrite\", \"randread\"],engine='posixaio')\n",
    "generate_job_single_device(\"xfs/xfs-uring.fio\",\"/mnt/mydisk\",[1,2,4,6,8,16],[\"4k\",\"8k\",\"16k\",\"32k\", \"256k\",'2048k','4096k','8192k'],[\"write\", \"read\",\"randwrite\", \"randread\"],engine='io_uring')\n",
    "generate_job_single_device(\"xfs/xfs-sync.fio\",\"/mnt/mydisk\",[1,2,4,6,8,16],[\"4k\",\"8k\",\"16k\",\"32k\", \"256k\",'2048k','4096k','8192k'],[\"write\", \"read\",\"randwrite\", \"randread\"],engine='sync')\n",
    "\n",
    "#btrfs\n",
    "generate_job_single_device(\"btrfs/btrfs-libaio.fio\",\"/mnt/mydisk\",[1,2,4,6,8,16],[\"4k\",\"8k\",\"16k\",\"32k\", \"256k\",'2048k','4096k','8192k'],[\"write\", \"read\",\"randwrite\", \"randread\"],engine='libaio')\n",
    "generate_job_single_device(\"btrfs/btrfs-posixaio.fio\",\"/mnt/mydisk\",[1,2,4,6,8,16],[\"4k\",\"8k\",\"16k\",\"32k\", \"256k\",'2048k','4096k','8192k'],[\"write\", \"read\",\"randwrite\", \"randread\"],engine='posixaio')\n",
    "generate_job_single_device(\"btrfs/btrfs-uring.fio\",\"/mnt/mydisk\",[1,2,4,6,8,16],[\"4k\",\"8k\",\"16k\",\"32k\", \"256k\",'2048k','4096k','8192k'],[\"write\", \"read\",\"randwrite\", \"randread\"],engine='io_uring')\n",
    "generate_job_single_device(\"btrfs/btrfs-sync.fio\",\"/mnt/mydisk\",[1,2,4,6,8,16],[\"4k\",\"8k\",\"16k\",\"32k\", \"256k\",'2048k','4096k','8192k'],[\"write\", \"read\",\"randwrite\", \"randread\"],engine='sync')\n",
    "\n",
    "#btrfs-no-cow\n",
    "generate_job_single_device(\"btrfs-nocow/btrfs-nocow-libaio.fio\",\"/mnt/mydisk\",[1,2,4,6,8,16],[\"4k\",\"8k\",\"16k\",\"32k\", \"256k\",'2048k','4096k','8192k'],[\"write\", \"read\",\"randwrite\", \"randread\"],engine='libaio')\n",
    "generate_job_single_device(\"btrfs-nocow/btrfs-nocow-posixaio.fio\",\"/mnt/mydisk\",[1,2,4,6,8,16],[\"4k\",\"8k\",\"16k\",\"32k\", \"256k\",'2048k','4096k','8192k'],[\"write\", \"read\",\"randwrite\", \"randread\"],engine='posixaio')\n",
    "generate_job_single_device(\"btrfs-nocow/btrfs-nocow-uring.fio\",\"/mnt/mydisk\",[1,2,4,6,8,16],[\"4k\",\"8k\",\"16k\",\"32k\", \"256k\",'2048k','4096k','8192k'],[\"write\", \"read\",\"randwrite\", \"randread\"],engine='io_uring')\n",
    "generate_job_single_device(\"btrfs-nocow/btrfs-nocow-sync.fio\",\"/mnt/mydisk\",[1,2,4,6,8,16],[\"4k\",\"8k\",\"16k\",\"32k\", \"256k\",'2048k','4096k','8192k'],[\"write\", \"read\",\"randwrite\", \"randread\"],engine='sync')\n",
    "\n",
    "#ext4\n",
    "generate_job_single_device(\"ext4/ext4-libaio.fio\",\"/mnt/mydisk\",[1,2,4,6,8,16],[\"4k\",\"8k\",\"16k\",\"32k\", \"256k\",'2048k','4096k','8192k'],[\"write\", \"read\",\"randwrite\", \"randread\"],engine='libaio')\n",
    "generate_job_single_device(\"ext4/ext4-posixaio.fio\",\"/mnt/mydisk\",[1,2,4,6,8,16],[\"4k\",\"8k\",\"16k\",\"32k\", \"256k\",'2048k','4096k','8192k'],[\"write\", \"read\",\"randwrite\", \"randread\"],engine='posixaio')\n",
    "generate_job_single_device(\"ext4/ext4-uring.fio\",\"/mnt/mydisk\",[1,2,4,6,8,16],[\"4k\",\"8k\",\"16k\",\"32k\", \"256k\",'2048k','4096k','8192k'],[\"write\", \"read\",\"randwrite\", \"randread\"],engine='io_uring')\n",
    "generate_job_single_device(\"ext4/ext4-sync.fio\",\"/mnt/mydisk\",[1,2,4,6,8,16],[\"4k\",\"8k\",\"16k\",\"32k\", \"256k\",'2048k','4096k','8192k'],[\"write\", \"read\",\"randwrite\", \"randread\"],engine='sync')\n",
    "\n",
    "#zfs\n",
    "generate_job_single_device(\"zfs/zfs-libaio.fio\",\"/pool_zfs/\",[1,2,4,6,8,16],[\"4k\",\"8k\",\"16k\",\"32k\", \"256k\",'2048k','4096k','8192k'],[\"write\", \"read\",\"randwrite\", \"randread\"],engine='libaio')\n",
    "generate_job_single_device(\"zfs/zfs-posixaio.fio\",\"/pool_zfs/\",[1,2,4,6,8,16],[\"4k\",\"8k\",\"16k\",\"32k\", \"256k\",'2048k','4096k','8192k'],[\"write\", \"read\",\"randwrite\", \"randread\"],engine='posixaio')\n",
    "generate_job_single_device(\"zfs/zfs-uring.fio\",\"/pool_zfs/\",[1,2,4,6,8,16],[\"4k\",\"8k\",\"16k\",\"32k\", \"256k\",'2048k','4096k','8192k'],[\"write\", \"read\",\"randwrite\", \"randread\"],engine='io_uring')\n",
    "generate_job_single_device(\"zfs/zfs-sync.fio\",\"/pool_zfs/\",[1,2,4,6,8,16],[\"4k\",\"8k\",\"16k\",\"32k\", \"256k\",'2048k','4096k','8192k'],[\"write\", \"read\",\"randwrite\", \"randread\"],engine='sync')\n"
   ]
  },
  {
   "cell_type": "code",
   "execution_count": 19,
   "id": "5eff666d-6483-479a-996f-a4737478408e",
   "metadata": {},
   "outputs": [],
   "source": [
    "def generate_job_multi_device(filename,device_count,blocksize,modes,engine):\n",
    "    jobfile = \"[global]\\n\"\n",
    "    jobfile+=f\"ioengine={engine}\\n\"\n",
    "    jobfile+=\"direct=1\\n\"\n",
    "    jobfile+=\"buffered=0\\n\"\n",
    "    jobfile+=\"time_based=1\\n\"\n",
    "    jobfile+=\"runtime=60\\n\"\n",
    "    jobfile+=\"size=8G\\n\"\n",
    "    jobfile+=\"group_reporting=1\\n\"\n",
    "    #jobfile+=\"offset_increment=10G\\n\"\n",
    "    jobfile+=\"iodepth=4\\n\"\n",
    "    jobfile+=f\"bs={blocksize}\\n\"\n",
    "    jobfile+=f\"rw={modes}\\n\"\n",
    "    for i in range(device_count):\n",
    "        jobfile+=f\"[Test_sd{chr(i+65).lower()}]\\n\"\n",
    "        jobfile+=f\"filename=/dev/sd{chr(i+65).lower()}\\n\"\n",
    "    write_to_file(jobfile,filename)"
   ]
  },
  {
   "cell_type": "code",
   "execution_count": 20,
   "id": "484d80de-534b-4420-ac34-2106933ee55e",
   "metadata": {},
   "outputs": [],
   "source": [
    "for device_count in range(1,13):\n",
    "    generate_job_multi_device(f\"perc/disk_{device_count}_write.fio\",device_count,\"8k\",\"write\",\"libaio\")\n",
    "    generate_job_multi_device(f\"perc/disk_{device_count}_read.fio\", device_count,\"8k\",\"read\",\"libaio\")"
   ]
  }
 ],
 "metadata": {
  "kernelspec": {
   "display_name": "Python 3 (ipykernel)",
   "language": "python",
   "name": "python3"
  },
  "language_info": {
   "codemirror_mode": {
    "name": "ipython",
    "version": 3
   },
   "file_extension": ".py",
   "mimetype": "text/x-python",
   "name": "python",
   "nbconvert_exporter": "python",
   "pygments_lexer": "ipython3",
   "version": "3.13.2"
  }
 },
 "nbformat": 4,
 "nbformat_minor": 5
}
